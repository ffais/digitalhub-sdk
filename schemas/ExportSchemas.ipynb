{
 "cells": [
  {
   "cell_type": "code",
   "execution_count": 2,
   "id": "929cc7d9-626f-47e2-86eb-8cef39ac96ad",
   "metadata": {},
   "outputs": [],
   "source": [
    "import importlib\n",
    "from pathlib import Path\n",
    "import json\n",
    "\n",
    "pth = Path(\"./\")\n",
    "libs = [\n",
    "    \"digitalhub_core_container.entities.registries\",\n",
    "    \"digitalhub_data_dbt.entities.registries\",\n",
    "    \"digitalhub_data_nefertem.entities.registries\",\n",
    "    \"digitalhub_ml_mlrun.entities.registries\",\n",
    "]\n",
    "for lib in libs:\n",
    "\n",
    "    # Import registry\n",
    "    module = importlib.import_module(lib)\n",
    "\n",
    "    # Spec schemas\n",
    "    spec_registry = getattr(module, \"spec_registry\")\n",
    "    for kind, mapper in spec_registry.items():\n",
    "\n",
    "        # Determine entity type\n",
    "        typ = None\n",
    "        l = kind.split(\"+\")\n",
    "        if len(l) == 1:\n",
    "            typ = \"function\"\n",
    "        else:\n",
    "            if l[1] == \"run\":\n",
    "                typ = \"run\"\n",
    "            else:\n",
    "                typ = \"task\"\n",
    "        if typ is None:\n",
    "            raise\n",
    "\n",
    "        # Make folder\n",
    "        (pth / typ).mkdir(parents=True, exist_ok=True)\n",
    "\n",
    "        # Import data model\n",
    "        spec_module = importlib.import_module(mapper[\"module\"])\n",
    "        spec_model = getattr(spec_module, mapper[\"spec_params\"])\n",
    "\n",
    "        # Get and write schema\n",
    "        json_schema = spec_model.schema_json()\n",
    "        name = f\"schema_{typ}_{kind}.json\"\n",
    "        text = json.dumps(json.loads(json_schema), indent=4)\n",
    "        (pth / typ / name).write_text(text)"
   ]
  }
 ],
 "metadata": {
  "kernelspec": {
   "display_name": "Python 3 (ipykernel)",
   "language": "python",
   "name": "python3"
  },
  "language_info": {
   "codemirror_mode": {
    "name": "ipython",
    "version": 3
   },
   "file_extension": ".py",
   "mimetype": "text/x-python",
   "name": "python",
   "nbconvert_exporter": "python",
   "pygments_lexer": "ipython3",
   "version": "3.9.18"
  }
 },
 "nbformat": 4,
 "nbformat_minor": 5
}
