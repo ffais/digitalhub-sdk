{
 "cells": [
  {
   "cell_type": "code",
   "execution_count": 6,
   "id": "929cc7d9-626f-47e2-86eb-8cef39ac96ad",
   "metadata": {},
   "outputs": [],
   "source": [
    "import importlib\n",
    "from pathlib import Path\n",
    "import json\n",
    "\n",
    "pth = Path(\"./\")\n",
    "for typ in [\"task\", \"function\"]:\n",
    "    libs = [\n",
    "        f\"digitalhub_data_dbt.entities.{typ}s.spec\",\n",
    "        f\"digitalhub_data_nefertem.entities.{typ}s.spec\",\n",
    "        f\"digitalhub_ml_mlrun.entities.{typ}s.spec\",\n",
    "    ]\n",
    "    (pth / typ).mkdir(parents=True, exist_ok=True)\n",
    "    \n",
    "    for lib in libs:\n",
    "        module = importlib.import_module(lib)\n",
    "        for i in getattr(module, \"spec_registry\").values():\n",
    "            json_schema = i[1].schema_json()\n",
    "            name = f\"schema_{typ}_\" + i[1].schema()[\"title\"].lower().replace(f\"{typ}params\", \"\") + \".json\"\n",
    "            text = json.dumps(json.loads(json_schema), indent=4)\n",
    "            (pth / typ /name).write_text(text)"
   ]
  }
 ],
 "metadata": {
  "kernelspec": {
   "display_name": "Python 3 (ipykernel)",
   "language": "python",
   "name": "python3"
  },
  "language_info": {
   "codemirror_mode": {
    "name": "ipython",
    "version": 3
   },
   "file_extension": ".py",
   "mimetype": "text/x-python",
   "name": "python",
   "nbconvert_exporter": "python",
   "pygments_lexer": "ipython3",
   "version": "3.9.18"
  }
 },
 "nbformat": 4,
 "nbformat_minor": 5
}
